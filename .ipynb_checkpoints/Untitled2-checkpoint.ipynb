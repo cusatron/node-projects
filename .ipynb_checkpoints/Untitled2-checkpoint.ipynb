{
 "cells": [
  {
   "cell_type": "code",
   "execution_count": 8,
   "metadata": {},
   "outputs": [
    {
     "ename": "IndentationError",
     "evalue": "unexpected indent (<ipython-input-8-eb8c4ddc16d4>, line 13)",
     "output_type": "error",
     "traceback": [
      "\u001b[0;36m  File \u001b[0;32m\"<ipython-input-8-eb8c4ddc16d4>\"\u001b[0;36m, line \u001b[0;32m13\u001b[0m\n\u001b[0;31m    print(i,\"3 check_list final data =\",sys.getsizeof(check_list3))\u001b[0m\n\u001b[0m    ^\u001b[0m\n\u001b[0;31mIndentationError\u001b[0m\u001b[0;31m:\u001b[0m unexpected indent\n"
     ]
    }
   ],
   "source": [
    "import sys \n",
    "check_list1=[]\n",
    "check_list2=[]\n",
    "check_list3=[1]\n",
    "for i in range(10):\n",
    "    check_list1.append(i)\n",
    "    check_list2.append(i*i)\n",
    "    check_list3.append(i)\n",
    "    print(i,\"1 check_list data =\",sys.getsizeof(check_list1))\n",
    "    print(i,\"2 check_list data =\",sys.getsizeof(check_list2))\n",
    "    print(i,\"3 check_list data =\",sys.getsizeof(check_list3))\n",
    "check_list4=[k for k in range(10)]\n",
    " print(i,\"3 check_list final data =\",sys.getsizeof(check_list4))"
   ]
  }
 ],
 "metadata": {
  "kernelspec": {
   "display_name": "Python 3",
   "language": "python",
   "name": "python3"
  },
  "language_info": {
   "codemirror_mode": {
    "name": "ipython",
    "version": 3
   },
   "file_extension": ".py",
   "mimetype": "text/x-python",
   "name": "python",
   "nbconvert_exporter": "python",
   "pygments_lexer": "ipython3",
   "version": "3.6.3"
  }
 },
 "nbformat": 4,
 "nbformat_minor": 2
}
